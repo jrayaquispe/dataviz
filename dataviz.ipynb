{
  "nbformat": 4,
  "nbformat_minor": 0,
  "metadata": {
    "colab": {
      "provenance": [],
      "toc_visible": true,
      "authorship_tag": "ABX9TyMfCyZA3YSdDcw05Ygv3BZW",
      "include_colab_link": true
    },
    "kernelspec": {
      "name": "python3",
      "display_name": "Python 3"
    },
    "language_info": {
      "name": "python"
    }
  },
  "cells": [
    {
      "cell_type": "markdown",
      "metadata": {
        "id": "view-in-github",
        "colab_type": "text"
      },
      "source": [
        "<a href=\"https://colab.research.google.com/github/jrayaquispe/dataviz/blob/main/dataviz.ipynb\" target=\"_parent\"><img src=\"https://colab.research.google.com/assets/colab-badge.svg\" alt=\"Open In Colab\"/></a>"
      ]
    },
    {
      "cell_type": "markdown",
      "source": [
        "# Data Visualization"
      ],
      "metadata": {
        "id": "5eLSH3M-IXda"
      }
    },
    {
      "cell_type": "markdown",
      "source": [
        "## Fase de Ingestion"
      ],
      "metadata": {
        "id": "H_BCpL1mHc3J"
      }
    },
    {
      "cell_type": "markdown",
      "source": [],
      "metadata": {
        "id": "xMa3XQ4RIWEP"
      }
    },
    {
      "cell_type": "code",
      "execution_count": null,
      "metadata": {
        "id": "HoAW9aLtHZUa"
      },
      "outputs": [],
      "source": []
    },
    {
      "cell_type": "markdown",
      "source": [
        "## EDA"
      ],
      "metadata": {
        "id": "VNvOLHerH2Qj"
      }
    },
    {
      "cell_type": "code",
      "source": [],
      "metadata": {
        "id": "BtEYO_igIHNp"
      },
      "execution_count": null,
      "outputs": []
    },
    {
      "cell_type": "markdown",
      "source": [
        "## Model"
      ],
      "metadata": {
        "id": "IUYZ3LvWH-el"
      }
    },
    {
      "cell_type": "code",
      "source": [],
      "metadata": {
        "id": "HqVLD8APIIUh"
      },
      "execution_count": null,
      "outputs": []
    },
    {
      "cell_type": "markdown",
      "source": [
        "## Conclusion"
      ],
      "metadata": {
        "id": "ZKZfGotmIEAr"
      }
    },
    {
      "cell_type": "code",
      "source": [],
      "metadata": {
        "id": "LK4u4WfmINDE"
      },
      "execution_count": null,
      "outputs": []
    }
  ]
}